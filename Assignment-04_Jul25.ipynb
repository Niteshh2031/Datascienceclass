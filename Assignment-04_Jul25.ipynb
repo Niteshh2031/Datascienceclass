{
 "cells": [
  {
   "cell_type": "markdown",
   "metadata": {},
   "source": [
    "### **Assignment: Introduction to Linear Algebra and NumPy**\n",
    "\n",
    "#### **Objective:**\n",
    "This assignment will help you build a solid understanding of basic Linear Algebra concepts using Python and the NumPy library. You'll learn to create and manipulate arrays, perform mathematical operations, and explore properties and methods of arrays."
   ]
  },
  {
   "cell_type": "markdown",
   "metadata": {},
   "source": [
    "\n",
    "### **Working with NumPy**\n",
    "\n",
    "NumPy is a powerful Python library for numerical computations, which allows easy manipulation of arrays and matrices."
   ]
  },
  {
   "cell_type": "markdown",
   "metadata": {},
   "source": [
    "**Task 1:** \n",
    "- Import the `numpy` library and check its version.\n"
   ]
  },
  {
   "cell_type": "code",
   "execution_count": 1,
   "metadata": {},
   "outputs": [
    {
     "name": "stdout",
     "output_type": "stream",
     "text": [
      "2.3.1\n"
     ]
    }
   ],
   "source": [
    "import numpy as np\n",
    "print(np.__version__)"
   ]
  },
  {
   "cell_type": "markdown",
   "metadata": {},
   "source": [
    "\n",
    "### **Creating a NumPy Array:**\n",
    "\n",
    "NumPy arrays are a powerful way to store and process large datasets. In this section, you will learn to create arrays.\n",
    "\n",
    "**Task 2:**\n",
    "- Create a 1D NumPy array from a Python list of numbers: `[1, 2, 3, 4, 5]`.\n",
    "- Create a 2D NumPy array of shape (3x3) using the numbers from 1 to 9.\n",
    "- Generate an array of 10 evenly spaced values between 0 and 5."
   ]
  },
  {
   "cell_type": "code",
   "execution_count": null,
   "metadata": {},
   "outputs": [
    {
     "data": {
      "text/plain": [
       "array([[2, 4, 4],\n",
       "       [6, 4, 2],\n",
       "       [2, 8, 7]], dtype=int32)"
      ]
     },
     "execution_count": 4,
     "metadata": {},
     "output_type": "execute_result"
    }
   ],
   "source": [
    "lst=[1,2,3,4,5]\n",
    "arr1=np.array(lst)\n",
    "arr1\n",
    "#2-D array of shape 3*3\n",
    "arr2=np.random.randint(low=1,high=9,size=(3,3))\n",
    "arr2\n"
   ]
  },
  {
   "cell_type": "code",
   "execution_count": 6,
   "metadata": {},
   "outputs": [
    {
     "data": {
      "text/plain": [
       "array([0.        , 0.55555556, 1.11111111, 1.66666667, 2.22222222,\n",
       "       2.77777778, 3.33333333, 3.88888889, 4.44444444, 5.        ])"
      ]
     },
     "execution_count": 6,
     "metadata": {},
     "output_type": "execute_result"
    }
   ],
   "source": [
    "#evenly spaced array\n",
    "np.linspace(start=0,stop=5,num=10)"
   ]
  },
  {
   "cell_type": "markdown",
   "metadata": {},
   "source": [
    "### **Indexing and Slicing Arrays:**\n",
    "\n",
    "Indexing and slicing allow you to access and modify specific elements of an array.\n",
    "\n",
    "**Task 3:**\n",
    "- Access the element in the second row, third column of the 2D array you created above.\n",
    "- Slice the first two rows and the first two columns from the same array.\n",
    "- Modify the value in the last row and first column to 100.\n"
   ]
  },
  {
   "cell_type": "code",
   "execution_count": 7,
   "metadata": {},
   "outputs": [
    {
     "data": {
      "text/plain": [
       "np.int32(2)"
      ]
     },
     "execution_count": 7,
     "metadata": {},
     "output_type": "execute_result"
    }
   ],
   "source": [
    "arr2[1][2]"
   ]
  },
  {
   "cell_type": "code",
   "execution_count": 9,
   "metadata": {},
   "outputs": [
    {
     "name": "stdout",
     "output_type": "stream",
     "text": [
      "[[2 4]\n",
      " [6 4]]\n"
     ]
    }
   ],
   "source": [
    "sliced=arr2[:2,:2]\n",
    "print(sliced)"
   ]
  },
  {
   "cell_type": "code",
   "execution_count": 10,
   "metadata": {},
   "outputs": [
    {
     "name": "stdout",
     "output_type": "stream",
     "text": [
      "[[  2   4   4]\n",
      " [  6   4   2]\n",
      " [100   8   7]]\n"
     ]
    }
   ],
   "source": [
    "arr2[2,0]=100\n",
    "print(arr2)"
   ]
  },
  {
   "cell_type": "markdown",
   "metadata": {},
   "source": [
    "### **Properties and Methods of NumPy Arrays**\n",
    "\n",
    "NumPy arrays have several useful properties and methods.\n",
    "\n",
    "**Task 4:**\n",
    "- Find the shape, size, and data type of the 2D array.\n",
    "- Change the 1D array into a 2D array of shape (5,1).\n",
    "- Flatten a multi-dimensional array back into a 1D array."
   ]
  },
  {
   "cell_type": "code",
   "execution_count": 11,
   "metadata": {},
   "outputs": [
    {
     "name": "stdout",
     "output_type": "stream",
     "text": [
      "[[  2   4   4]\n",
      " [  6   4   2]\n",
      " [100   8   7]]\n",
      "\n",
      "shape:(3, 3)\n",
      "Size:9\n",
      "datatype:int32\n"
     ]
    }
   ],
   "source": [
    "#finding shape,size,and data type of 2-D array\n",
    "print(arr2)\n",
    "print(f\"\\nshape:{arr2.shape}\")\n",
    "print(f\"Size:{arr2.size}\")\n",
    "print(f\"datatype:{arr2.dtype}\")"
   ]
  },
  {
   "cell_type": "code",
   "execution_count": 13,
   "metadata": {},
   "outputs": [
    {
     "name": "stdout",
     "output_type": "stream",
     "text": [
      "Array:[9 6 8 6 2]\n",
      "2-D array:[[9]\n",
      " [6]\n",
      " [8]\n",
      " [6]\n",
      " [2]]\n",
      "\n",
      "Shape of array:(5, 1)\n"
     ]
    }
   ],
   "source": [
    "#1-D array into 2-D \n",
    "arr1=np.random.randint(1,10,size=5)\n",
    "print(f\"Array:{arr1}\")\n",
    "reshaped=arr1.reshape(5,1)\n",
    "print(f\"2-D array:{reshaped}\\n\")\n",
    "print(f\"Shape of array:{reshaped.shape}\")\n"
   ]
  },
  {
   "cell_type": "code",
   "execution_count": 17,
   "metadata": {},
   "outputs": [
    {
     "name": "stdout",
     "output_type": "stream",
     "text": [
      "Multidimensional array:[[[ 0 18 14]\n",
      "  [35 34 34]\n",
      "  [45 28 27]]\n",
      "\n",
      " [[46 29 47]\n",
      "  [18 11  3]\n",
      "  [43 14  1]]\n",
      "\n",
      " [[47 23 17]\n",
      "  [ 9 47 28]\n",
      "  [44 35  9]]]\n",
      "\n",
      "\n",
      "Flattened array:[ 0 18 14 35 34 34 45 28 27 46 29 47 18 11  3 43 14  1 47 23 17  9 47 28\n",
      " 44 35  9]\n"
     ]
    }
   ],
   "source": [
    "#flattening array\n",
    "arr3=np.random.randint(low=0,high=50,size=(3,3,3))\n",
    "print(f\"Multidimensional array:{arr3}\\n\")\n",
    "flatten_array=arr3.flatten()\n",
    "print(f\"\\nFlattened array:{flatten_array}\")"
   ]
  },
  {
   "cell_type": "markdown",
   "metadata": {},
   "source": [
    "### **Operations on NumPy Arrays**\n",
    "\n",
    "Perform operations such as addition, subtraction, multiplication, and matrix multiplication on arrays.\n",
    "\n",
    "**Task 5:**\n",
    "- Add 5 to every element in the 1D array.\n",
    "- Multiply the 2D array by 3.\n",
    "- Perform matrix multiplication between the following two arrays:  \n",
    "    ```python\n",
    "    A = np.array([[1, 2], [3, 4]])\n",
    "    B = np.array([[5, 6], [7, 8]])"
   ]
  },
  {
   "cell_type": "code",
   "execution_count": 22,
   "metadata": {},
   "outputs": [
    {
     "name": "stdout",
     "output_type": "stream",
     "text": [
      "[9 6 8 6 2]\n",
      "Adding 5 to array:[14 11 13 11  7]\n",
      "\n",
      "[[  2   4   4]\n",
      " [  6   4   2]\n",
      " [100   8   7]]\n",
      "\n",
      "Multiplying by 3 to array2:[[  6  12  12]\n",
      " [ 18  12   6]\n",
      " [300  24  21]]\n"
     ]
    }
   ],
   "source": [
    "\n",
    "print(arr1)\n",
    "print(f\"Adding 5 to array:{arr1+5}\\n\")\n",
    "print(arr2)\n",
    "print(f\"\\nMultiplying by 3 to array2:{arr2*3}\")"
   ]
  },
  {
   "cell_type": "code",
   "execution_count": 23,
   "metadata": {},
   "outputs": [
    {
     "name": "stdout",
     "output_type": "stream",
     "text": [
      "Product:[[19 22]\n",
      " [43 50]]\n"
     ]
    }
   ],
   "source": [
    "A = np.array([[1, 2], [3, 4]])\n",
    "B = np.array([[5, 6], [7, 8]])\n",
    "arr_mult=np.dot(A,B)\n",
    "print(f\"Product:{arr_mult}\")"
   ]
  },
  {
   "cell_type": "markdown",
   "metadata": {},
   "source": [
    "### **Understanding Broadcasting**\n",
    "\n",
    "Broadcasting allows NumPy to work with arrays of different shapes during arithmetic operations.\n",
    "\n",
    "**Task 6:**\n",
    "- Create a 3x3 matrix of ones and a 1D array of length 3.\n",
    "- Add the 1D array to each row of the matrix using broadcasting."
   ]
  },
  {
   "cell_type": "code",
   "execution_count": 28,
   "metadata": {},
   "outputs": [
    {
     "name": "stdout",
     "output_type": "stream",
     "text": [
      "Ones array:[[1. 1. 1.]\n",
      " [1. 1. 1.]\n",
      " [1. 1. 1.]]\n",
      "1-D array:[5 6 7]\n",
      "Sum:[[6. 7. 8.]\n",
      " [6. 7. 8.]\n",
      " [6. 7. 8.]]\n"
     ]
    }
   ],
   "source": [
    "arr_ones=np.ones(shape=(3,3))\n",
    "print(f\"Ones array:{arr_ones}\")\n",
    "arr4=np.array([5,6,7])\n",
    "print(f\"1-D array:{arr4}\")\n",
    "arr_sum=arr4+arr_ones\n",
    "print(f\"Sum:{arr_sum}\")"
   ]
  }
 ],
 "metadata": {
  "kernelspec": {
   "display_name": "Python 3",
   "language": "python",
   "name": "python3"
  },
  "language_info": {
   "codemirror_mode": {
    "name": "ipython",
    "version": 3
   },
   "file_extension": ".py",
   "mimetype": "text/x-python",
   "name": "python",
   "nbconvert_exporter": "python",
   "pygments_lexer": "ipython3",
   "version": "3.13.3"
  }
 },
 "nbformat": 4,
 "nbformat_minor": 4
}
