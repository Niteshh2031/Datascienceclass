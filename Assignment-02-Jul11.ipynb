{
 "cells": [
  {
   "cell_type": "markdown",
   "metadata": {},
   "source": [
    "### Question : Check for Palindrome\n",
    "Write a Python program using a lambda function to check if a given string is a palindrome.\n",
    "\n",
    "Example:\n",
    "\n",
    "Input: `\"level\"`\n",
    "\n",
    "Output: `True`"
   ]
  },
  {
   "cell_type": "code",
   "execution_count": 1,
   "metadata": {},
   "outputs": [
    {
     "data": {
      "text/plain": [
       "True"
      ]
     },
     "execution_count": 1,
     "metadata": {},
     "output_type": "execute_result"
    }
   ],
   "source": [
    "# Your Solution Here\n",
    "check_palidrome=lambda word:word==word[::-1]\n",
    "word=\"level\"\n",
    "check_palidrome(word)"
   ]
  },
  {
   "cell_type": "markdown",
   "metadata": {},
   "source": [
    "### Question: \n",
    "Write a Python program to check whether a given number is an Armstrong number or not.\n",
    "\n",
    "**Definition:**\n",
    "An **Armstrong number** (also known as a **narcissistic number**) is a number that is equal to the sum of its own digits each raised to the power of the number of digits. For example:\n",
    "- 153 is an Armstrong number because \\( 1^3 + 5^3 + 3^3 = 153 \\).\n",
    "- 9474 is an Armstrong number because \\( 9^4 + 4^4 + 7^4 + 4^4 = 9474 \\).\n",
    "\n",
    "**Input:**  \n",
    "An integer (e.g., 153).\n",
    "\n",
    "**Output:**  \n",
    "Output \"Yes, it's an Armstrong number.\" if the number is an Armstrong number. Otherwise, output \"No, it's not an Armstrong number.\"\n",
    "\n",
    "**Constraints:**  \n",
    "- The input should be a positive integer.  \n"
   ]
  },
  {
   "cell_type": "code",
   "execution_count": null,
   "metadata": {},
   "outputs": [],
   "source": [
    "# Your Solution Here\n",
    "number=int(input(\"Enter a positive number:\"))\n",
    "stringed_num=str(number)\n",
    "power=len(stringed_num)\n",
    "total=0\n",
    "for each in stringed_num:\n",
    "    total+=int(each)**power\n",
    "if total==number:\n",
    "    print(f\"{number} is an amstrong number!\")\n",
    "else:\n",
    "    print(f\"{number} is not an amstrong number!\")\n"
   ]
  },
  {
   "cell_type": "markdown",
   "metadata": {},
   "source": [
    "### Control Flow with Nested Loops and Complex Logic\n",
    "\n",
    "Write a Python program that simulates a **number guessing game**:\n",
    "\n",
    "1. The program should generate a random number between 1 and 100 and give the user 7 attempts to guess it.\n",
    "\n",
    "2. After each wrong guess, the program should provide a hint whether the guess was too high or too low.\n",
    "\n",
    "3. If the user fails to guess the number within the attempts, the program should reveal the number and ask if they would like to play again."
   ]
  },
  {
   "cell_type": "code",
   "execution_count": null,
   "metadata": {},
   "outputs": [],
   "source": [
    "# Your Solution Here\n",
    "import random\n",
    "number=random.randint(1,100)\n",
    "attempts=7\n",
    "for attempt in range(attempts):\n",
    "    num=int(input(\"Guess a number(1-100):\"))\n",
    "    if num==number:\n",
    "        print(\"You guessed it right!\")\n",
    "        break\n",
    "    elif num>number:\n",
    "        print(\"Too high!\")\n",
    "    else:\n",
    "        print(\"Too low!\")\n",
    "else:\n",
    "   print(f\"Sorry! You failed ! The number was {number}!\")\n",
    "\n",
    "response=input(\"Do you want to play again:\")\n",
    "\n",
    "\n"
   ]
  },
  {
   "cell_type": "markdown",
   "metadata": {},
   "source": [
    "\n",
    "### Write a Python program that iterates through integers from 1 to 50. For each multiple of three, print \"Fizz\" instead of the number; for each multiple of five, print \"Buzz\". For numbers that are multiples of both three and five, print \"FizzBuzz\".\n",
    "\n",
    "The FizzBuzz problem is a common coding challenge that is often used in programming interviews to test basic programming skills. The problem typically requires writing a function that prints numbers from 1 to a given limit, but with a twist:\n",
    "\n",
    "- For multiples of 3, print \"Fizz\" instead of the number.\n",
    "- For multiples of 5, print \"Buzz\" instead of the number.\n",
    "- For numbers which are multiples of both 3 and 5, print \"FizzBuzz\".\n",
    "\n",
    "\n"
   ]
  },
  {
   "cell_type": "code",
   "execution_count": 1,
   "metadata": {},
   "outputs": [
    {
     "name": "stdout",
     "output_type": "stream",
     "text": [
      "1\n",
      "2\n",
      "Fizz\n",
      "4\n",
      "Buzz\n",
      "Fizz\n",
      "7\n",
      "8\n",
      "Fizz\n",
      "Buzz\n",
      "11\n",
      "Fizz\n",
      "13\n",
      "14\n",
      "FizzBuzz\n",
      "16\n",
      "17\n",
      "Fizz\n",
      "19\n",
      "Buzz\n",
      "Fizz\n",
      "22\n",
      "23\n",
      "Fizz\n",
      "Buzz\n",
      "26\n",
      "Fizz\n",
      "28\n",
      "29\n",
      "FizzBuzz\n",
      "31\n",
      "32\n",
      "Fizz\n",
      "34\n",
      "Buzz\n",
      "Fizz\n",
      "37\n",
      "38\n",
      "Fizz\n",
      "Buzz\n",
      "41\n",
      "Fizz\n",
      "43\n",
      "44\n",
      "FizzBuzz\n",
      "46\n",
      "47\n",
      "Fizz\n",
      "49\n",
      "Buzz\n"
     ]
    }
   ],
   "source": [
    "# Your Solution Here\n",
    "for number in range(1,51):\n",
    "    if number%3==0 and number%5==0:\n",
    "        print(\"FizzBuzz\")\n",
    "    elif number%5==0:\n",
    "        print(\"Buzz\")\n",
    "    elif number%3==0:\n",
    "        print(\"Fizz\")\n",
    "    else:\n",
    "        print(number)\n",
    "\n"
   ]
  },
  {
   "cell_type": "markdown",
   "metadata": {},
   "source": [
    "### Scenario:\n",
    "\n",
    "You are tasked with designing a system for a **vehicle rental company**. The company rents out various types of vehicles like **Cars** and **Bikes**, and each vehicle has some shared characteristics but also some distinct ones. \n",
    "\n",
    "### Requirements:\n",
    "1. Each **Vehicle** has attributes such as:\n",
    "   - `vehicle_id`: A unique identifier for the vehicle.\n",
    "   - `brand`: The brand of the vehicle.\n",
    "   - `rental_price`: Price per day to rent the vehicle.\n",
    "\n",
    "2. Both **Car** and **Bike** are types of **Vehicles**.  \n",
    "   - A **Car** has an additional attribute: `number_of_doors`.  \n",
    "   - A **Bike** has an additional attribute: `bike_type` (e.g., mountain bike, racing bike).\n",
    "\n",
    "3. You should provide methods to:\n",
    "   - **Calculate total rental cost**: Given the number of rental days, calculate the total cost for any vehicle.\n",
    "   - **Display vehicle details**: For both cars and bikes, display details including the unique attributes (e.g., `number_of_doors` for cars, `bike_type` for bikes).\n",
    "\n",
    "4. Implement the following OOP concepts:\n",
    "   - **Abstraction**: Provide a clean interface for calculating the total rental cost and displaying vehicle details, hiding the internal logic.\n",
    "   - **Inheritance**: Both **Car** and **Bike** should inherit common functionality from the **Vehicle** class.\n",
    "   - **Polymorphism**: Use method overriding so that the method for displaying vehicle details works differently for cars and bikes.\n",
    "\n",
    "---\n",
    "\n",
    "### Task:\n",
    "\n",
    "1. **Define a `Vehicle` base class** that implements the common attributes and methods.\n",
    "2. **Define two subclasses `Car` and `Bike`** that inherit from `Vehicle` and implement their specific attributes.\n",
    "3. Use encapsulation by making attributes private and providing public methods to interact with them.\n",
    "4. Use polymorphism to create a `display_details` method that behaves differently for `Car` and `Bike`.\n"
   ]
  },
  {
   "cell_type": "code",
   "execution_count": 9,
   "metadata": {},
   "outputs": [
    {
     "name": "stdout",
     "output_type": "stream",
     "text": [
      "Car Details:\n",
      "Vehicle ID:TES1\n",
      "Brand:Tesla\n",
      "Rental Price per Day:10\n",
      "Number of Doors: 4\n",
      "Rental price for 5 days:50\n",
      "Bike Details:\n",
      "Vehicle ID:RX100\n",
      "Brand:Honda\n",
      "Rental Price per Day:5\n",
      "Bike Type:Bullet\n",
      "Rental price for 5 days:25\n"
     ]
    }
   ],
   "source": [
    "# Your Solution Here\n",
    "from abc import ABC, abstractmethod\n",
    "class Vehicle(ABC):\n",
    "    def __init__(self,vehicle_id,brand,rental_price):\n",
    "        self.vehicle_id=vehicle_id\n",
    "        self.brand=brand\n",
    "        self.rental_price=rental_price\n",
    "    def total_rent(self,days):\n",
    "        return self.rental_price*days #hides the detail of rent calculation\n",
    "    @abstractmethod\n",
    "    #hides the class function\n",
    "    def display_details(self):\n",
    "        print(f\"Vehicle ID:{self.vehicle_id}\")\n",
    "        print(f\"Brand:{self.brand}\")\n",
    "        print(f\"Rental Price per Day:{self.rental_price}\")\n",
    "class Car(Vehicle):#inherit vehicle property from vehicle class\n",
    "    def __init__(self, vehicle_id, brand, rental_price, number_of_doors):\n",
    "        super().__init__(vehicle_id, brand, rental_price)\n",
    "        self.__number_of_doors = number_of_doors #private encapsulation\n",
    "    def doors_details_show(self):\n",
    "        return self.__number_of_doors\n",
    "    def display_details(self):#overrides the details in vehicle class \n",
    "        print(\"Car Details:\")\n",
    "        print(f\"Vehicle ID:{self.vehicle_id}\")\n",
    "        print(f\"Brand:{self.brand}\")\n",
    "        print(f\"Rental Price per Day:{self.rental_price}\")\n",
    "        print(f\"Number of Doors: {self.doors_details_show()}\")\n",
    "class Bike(Vehicle):\n",
    "    def __init__(self, vehicle_id, brand, rental_price, bike_type):\n",
    "        super().__init__(vehicle_id, brand, rental_price)\n",
    "        self.__bike_type = bike_type #private encapsulation\n",
    "    def bike_type_show(self):\n",
    "        return self.__bike_type\n",
    "    def display_details(self):\n",
    "        print(\"Bike Details:\")\n",
    "        print(f\"Vehicle ID:{self.vehicle_id}\")\n",
    "        print(f\"Brand:{self.brand}\")\n",
    "        print(f\"Rental Price per Day:{self.rental_price}\")\n",
    "        print(f\"Bike Type:{self.bike_type_show()}\")\n",
    "car=Car(\"TES1\",\"Tesla\",10,4)\n",
    "bike=Bike(\"RX100\",\"Honda\",5,\"Bullet\")\n",
    "car.display_details()\n",
    "print(f\"Rental price for 5 days:{car.total_rent(5)}\")\n",
    "bike.display_details()\n",
    "print(f\"Rental price for 5 days:{bike.total_rent(5)}\")\n",
    "\n",
    "\n",
    "\n",
    "\n",
    "\n",
    "\n",
    "    "
   ]
  },
  {
   "cell_type": "code",
   "execution_count": null,
   "metadata": {},
   "outputs": [],
   "source": []
  },
  {
   "cell_type": "code",
   "execution_count": null,
   "metadata": {},
   "outputs": [],
   "source": []
  },
  {
   "cell_type": "code",
   "execution_count": null,
   "metadata": {},
   "outputs": [],
   "source": []
  }
 ],
 "metadata": {
  "kernelspec": {
   "display_name": "Python 3",
   "language": "python",
   "name": "python3"
  },
  "language_info": {
   "codemirror_mode": {
    "name": "ipython",
    "version": 3
   },
   "file_extension": ".py",
   "mimetype": "text/x-python",
   "name": "python",
   "nbconvert_exporter": "python",
   "pygments_lexer": "ipython3",
   "version": "3.13.3"
  }
 },
 "nbformat": 4,
 "nbformat_minor": 4
}
