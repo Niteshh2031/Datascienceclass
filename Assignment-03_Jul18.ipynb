{
 "cells": [
  {
   "cell_type": "markdown",
   "id": "119ef6a9",
   "metadata": {},
   "source": [
    "### Math Tutor Using Random, Arithmetic Operators, and OOP\n",
    "\n",
    "*Scenario:*\n",
    "Create a `MathTutor` class that generates random math questions using `random` and `math operators`.\n",
    "\n",
    "* Track correct and incorrect answers.\n",
    "* Provide a score at the end.\n",
    "* Handle invalid input using exception handling.\n",
    "\n",
    "> Concepts: Random, Math, Exception Handling, Classes"
   ]
  },
  {
   "cell_type": "code",
   "execution_count": null,
   "id": "77dc396f",
   "metadata": {},
   "outputs": [],
   "source": [
    "import random \n",
    "\n",
    "class MathTutor:\n",
    "    def __init__(self, num_quesn=5):\n",
    "        self.num_quesn = num_quesn\n",
    "        self.correct = 0\n",
    "        self.incorrect = 0\n",
    "\n",
    "    def generate_quesn(self):\n",
    "        num1 = random.randint(1, 10)\n",
    "        num2 = random.randint(1, 10)\n",
    "        operator = random.choice(['+', '-', '*', '//'])\n",
    "\n",
    "        if operator == '//' and num2 == 0:\n",
    "            num2 = 1  # to avoid dividing by zero\n",
    "\n",
    "        quesn = f\"{num1} {operator} {num2}\"\n",
    "        correct_answer = eval(quesn)\n",
    "        return quesn, correct_answer\n",
    "\n",
    "    def ask_quesn(self):\n",
    "        print(\"welcome to math tutor!\")\n",
    "\n",
    "        for i in range(1, self.num_quesn + 1):\n",
    "            quesn, correct_answer = self.generate_quesn()\n",
    "            try:\n",
    "                user_input = input(f\"Q{i}: what is {quesn}? \")\n",
    "                user_answer = int(user_input)\n",
    "\n",
    "                if user_answer == correct_answer:\n",
    "                    print(\"correct\\n\")\n",
    "                    self.correct += 1\n",
    "                else:\n",
    "                    print(f\"wrong! the correct ans is {correct_answer}\\n\")\n",
    "                    self.incorrect += 1\n",
    "                    \n",
    "            except ValueError:\n",
    "                print(\"Invalid input. Enter a number.\")\n",
    "                self.incorrect += 1\n",
    "\n",
    "    def show_score(self):\n",
    "        print(\"Quiz Complete!\")\n",
    "        print(f\"Correct: {self.correct}\")\n",
    "        print(f\"Incorrect: {self.incorrect}\")\n",
    "        print(f\"Score: {self.correct}/{self.num_quesn}\")\n",
    "\n",
    "tutor = MathTutor(num_quesn=5)\n",
    "tutor.ask_quesn()\n",
    "tutor.show_score()\n"
   ]
  },
  {
   "cell_type": "markdown",
   "id": "360b4034",
   "metadata": {},
   "source": [
    "### Multi-file Project Using Modules and Packages\n",
    "\n",
    "*Scenario:*\n",
    "You're building a small finance app.\n",
    "\n",
    "* Create a package `finance_tools` with modules: `tax.py` and `loan.py`.\n",
    "* Each module contains utility functions like `calculate_tax()` and `calculate_emi()`.\n",
    "* Import and use them in a main script that takes user input to do both.\n",
    "\n",
    "> Concepts: Packages, Modules, Importing, Separation of Concerns\n"
   ]
  },
  {
   "cell_type": "code",
   "execution_count": null,
   "id": "fbf73825",
   "metadata": {},
   "outputs": [],
   "source": [
    "from financial_ tools import tax\n",
    "from financial_ tools import loan\n",
    "\n",
    "def main():\n",
    "    try:\n",
    "        income = float(input(\"Enter your income: \"))\n",
    "        tax = calculate_tax(income)\n",
    "        print(f\"Tax to be paid: {tax}\")\n",
    "\n",
    "        principal = float(input(\"Loan Amount: \"))\n",
    "        rate = float(input(\"Annual Interest Rate (%): \"))\n",
    "        time = float(input(\"Loan Duration (Years): \"))\n",
    "        emi = calculate_emi(principal, rate, time)\n",
    "        print(f\"Monthly EMI: {emi}\")\n",
    "    except ValueError:\n",
    "        print(\"Invalid numeric input.\")\n",
    "\n",
    "if __name__ == \"__main__\":\n",
    "    main()\n"
   ]
  },
  {
   "cell_type": "markdown",
   "id": "1ecd8aa7",
   "metadata": {},
   "source": [
    "### Exception Handling Scenario: Online Age-Restricted Service\n",
    "\n",
    "**Scenario:**\n",
    "You’re building a sign-up system for an online movie rental platform. Some movies are age-restricted (18+). You need to ensure proper validation and error handling during user registration.\n",
    "\n",
    "**Task:**\n",
    "\n",
    "1. Create a custom exception class called `UnderageError` that inherits from `Exception`.\n",
    "2. Write a function `register_user()` that:\n",
    "\n",
    "   * Takes a user’s `name` and `age` as input.\n",
    "   * Raises `UnderageError` if the user is under 18.\n",
    "   * Otherwise, prints a welcome message.\n",
    "3. Wrap the function call in a `try` block and handle the exception.\n",
    "4. Use `else` to confirm successful registration and `finally` to always print **“Thank you for using MovieTime!”** regardless of outcome.\n",
    "\n",
    "Also try to validate if the age input is numeric. Raise a `ValueError` if not, and handle it separately.\n",
    "\n"
   ]
  },
  {
   "cell_type": "code",
   "execution_count": null,
   "id": "3fd54170",
   "metadata": {},
   "outputs": [],
   "source": [
    "class UnderageError(Exception):\n",
    "    pass\n",
    "\n",
    "def register_user():\n",
    "    try:\n",
    "        name = input(\"Enter your name: \")\n",
    "        age_input = input(\"Enter your age: \")\n",
    "\n",
    "        if not age_input.isdigit():\n",
    "            raise ValueError(\"Age must be a number.\")\n",
    "\n",
    "        age = int(age_input)\n",
    "        if age < 18:\n",
    "            raise UnderageError(\"You must be 18 or older to register.\")\n",
    "\n",
    "    except ValueError as ve:\n",
    "        print(f\"Invalid input: {ve}\")\n",
    "    except UnderageError as ue:\n",
    "        print(f\"Access denied: {ue}\")\n",
    "    else:\n",
    "        print(f\"Welcome {name}!\")\n",
    "    finally:\n",
    "        print(\"Thank you for using MovieTime!\")\n",
    "\n",
    "\n",
    "register_user()\n"
   ]
  },
  {
   "cell_type": "markdown",
   "id": "7e76d9b4",
   "metadata": {},
   "source": [
    "# Problem Statement\n",
    "\n",
    "We want to build an online shopping cart system that allows users to add products to their cart, calculate the total cost, apply discounts, and generate an invoice. The system should include the following functionalities:\n",
    "\n",
    "- Adding products to the cart\n",
    "- Removing products from the cart\n",
    "- Calculating the total cost\n",
    "- Applying discounts based on user type\n",
    "- Generating an invoice\n",
    "\n",
    "### 1. Create the Product class\n",
    "\n",
    "We create a basic `Product` class with attributes for the product name and price."
   ]
  },
  {
   "cell_type": "code",
   "execution_count": null,
   "id": "a286f01a",
   "metadata": {},
   "outputs": [],
   "source": [
    "class Product:\n",
    "    def __init__(self, name, price):\n",
    "        self.name = name\n",
    "        self.price = price\n"
   ]
  },
  {
   "cell_type": "markdown",
   "id": "0c9aa397",
   "metadata": {},
   "source": [
    "### 2.  Implement the User class\n",
    "\n",
    "In this step, we create a `User` class with attributes for the user's name and whether they are a premium member."
   ]
  },
  {
   "cell_type": "code",
   "execution_count": null,
   "id": "3393e953",
   "metadata": {},
   "outputs": [],
   "source": [
    "class User:\n",
    "    def __init__(self, name, is_premium=False):\n",
    "        self.name = name\n",
    "        self.is_premium = is_premium\n"
   ]
  },
  {
   "cell_type": "markdown",
   "id": "3b7e070b",
   "metadata": {},
   "source": [
    "### 3. Create the ShoppingCart class\n",
    "\n",
    "In this step, we create a `ShoppingCart` class with methods for adding and removing products from the cart, as well as calculating the total cost of the items in the cart.\n",
    "\n",
    "**Note**: Define `calculate_total_cost` method in the `ShoppingCart` class, that applies a `10%` discount to the total cost if you are `premium` User."
   ]
  },
  {
   "cell_type": "code",
   "execution_count": null,
   "id": "c0b5196d",
   "metadata": {},
   "outputs": [],
   "source": [
    "class ShoppingCart:\n",
    "    def __init__(self, user):\n",
    "        self.user = user\n",
    "        self.items = []\n",
    "\n",
    "    def add_product(self, product):\n",
    "        self.items.append(product)\n",
    "\n",
    "    def remove_product(self, product_name):\n",
    "        self.items = [p for p in self.items if p.name != product_name]\n",
    "\n",
    "    def calculate_total_cost(self):\n",
    "        total = sum(p.price for p in self.items)\n",
    "        if self.user.is_premium:\n",
    "            total *= 0.9  # 10% discount\n",
    "        return round(total, 2)\n",
    "\n",
    "    def generate_invoice(self):\n",
    "        print(f\"\\nInvoice for {self.user.name} ({'Premium' if self.user.is_premium else 'Regular'} User)\")\n",
    "        for product in self.items:\n",
    "            print(f\"- {product.name}: ${product.price}\")\n",
    "        print(f\"Total Cost: ${self.calculate_total_cost()}\")\n"
   ]
  },
  {
   "cell_type": "markdown",
   "id": "afc26053",
   "metadata": {},
   "source": [
    "### 4. Testing the functionality\n",
    "\n",
    "Now that we have implemented the necessary classes and methods, let's test our online shopping cart system:"
   ]
  },
  {
   "cell_type": "code",
   "execution_count": null,
   "id": "6186bdcb",
   "metadata": {},
   "outputs": [],
   "source": [
    "# Create user and products\n",
    "user1 = User(\"Alice\", is_premium=True)\n",
    "cart = ShoppingCart(user1)\n",
    "\n",
    "p1 = Product(\"Laptop\", 50000)\n",
    "p2 = Product(\"Headphones\", 2500)\n",
    "p3 = Product(\"Mouse\", 700)\n",
    "\n",
    "# Add and remove items\n",
    "cart.add_products(p1)\n",
    "cart.add_products(p2)\n",
    "cart.add_products(p3)\n",
    "cart.remove_product(\"Mouse\")\n",
    "\n",
    "# Generate Invoice\n",
    "cart.generate_invoice()"
   ]
  },
  {
   "cell_type": "markdown",
   "id": "7ea7c96e",
   "metadata": {},
   "source": [
    "### 5. Generating Invoice for a given cart"
   ]
  },
  {
   "cell_type": "code",
   "execution_count": 8,
   "id": "c727607d-74ed-4609-bc88-3a14049c162f",
   "metadata": {},
   "outputs": [],
   "source": [
    "# Your Solution Here"
   ]
  },
  {
   "cell_type": "code",
   "execution_count": null,
   "id": "59e0bc19-36f6-4f4f-9d96-994e0dc19b59",
   "metadata": {},
   "outputs": [],
   "source": []
  }
 ],
 "metadata": {
  "kernelspec": {
   "display_name": "Python 3 (ipykernel)",
   "language": "python",
   "name": "python3"
  },
  "language_info": {
   "codemirror_mode": {
    "name": "ipython",
    "version": 3
   },
   "file_extension": ".py",
   "mimetype": "text/x-python",
   "name": "python",
   "nbconvert_exporter": "python",
   "pygments_lexer": "ipython3",
   "version": "3.10.12"
  }
 },
 "nbformat": 4,
 "nbformat_minor": 5
}
